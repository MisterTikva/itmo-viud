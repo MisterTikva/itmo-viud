{
 "metadata": {
  "language_info": {
   "codemirror_mode": {
    "name": "ipython",
    "version": 3
   },
   "file_extension": ".py",
   "mimetype": "text/x-python",
   "name": "python",
   "nbconvert_exporter": "python",
   "pygments_lexer": "ipython3",
   "version": "3.8.0-final"
  },
  "orig_nbformat": 2,
  "kernelspec": {
   "name": "Python 3.8.0 32-bit",
   "display_name": "Python 3.8.0 32-bit",
   "metadata": {
    "interpreter": {
     "hash": "0f65c23eede5476679184682c503c84731cf692a5e00e0b01124a2cec60a7327"
    }
   }
  }
 },
 "nbformat": 4,
 "nbformat_minor": 2,
 "cells": [
  {
   "cell_type": "code",
   "execution_count": 14,
   "metadata": {},
   "outputs": [
    {
     "output_type": "error",
     "ename": "AttributeError",
     "evalue": "'NoneType' object has no attribute 'get_text'",
     "traceback": [
      "\u001b[1;31m---------------------------------------------------------------------------\u001b[0m",
      "\u001b[1;31mAttributeError\u001b[0m                            Traceback (most recent call last)",
      "\u001b[1;32m<ipython-input-14-4969bb210b38>\u001b[0m in \u001b[0;36m<module>\u001b[1;34m\u001b[0m\n\u001b[0;32m     45\u001b[0m \u001b[0mresultDict\u001b[0m\u001b[1;33m[\u001b[0m\u001b[1;34m'genre'\u001b[0m\u001b[1;33m]\u001b[0m \u001b[1;33m=\u001b[0m \u001b[0msoup\u001b[0m\u001b[1;33m.\u001b[0m\u001b[0mfind\u001b[0m\u001b[1;33m(\u001b[0m\u001b[0mclass_\u001b[0m \u001b[1;33m=\u001b[0m \u001b[0mgenreClass\u001b[0m\u001b[1;33m,\u001b[0m \u001b[0mitemprop\u001b[0m\u001b[1;33m=\u001b[0m\u001b[1;34m\"genre\"\u001b[0m\u001b[1;33m)\u001b[0m\u001b[1;33m[\u001b[0m\u001b[1;34m\"href\"\u001b[0m\u001b[1;33m]\u001b[0m\u001b[1;33m.\u001b[0m\u001b[0msplit\u001b[0m\u001b[1;33m(\u001b[0m\u001b[1;34m'/'\u001b[0m\u001b[1;33m)\u001b[0m\u001b[1;33m[\u001b[0m\u001b[1;33m-\u001b[0m\u001b[1;36m1\u001b[0m\u001b[1;33m]\u001b[0m\u001b[1;33m\u001b[0m\u001b[1;33m\u001b[0m\u001b[0m\n\u001b[0;32m     46\u001b[0m \u001b[1;33m\u001b[0m\u001b[0m\n\u001b[1;32m---> 47\u001b[1;33m \u001b[0mresultDict\u001b[0m\u001b[1;33m[\u001b[0m\u001b[1;34m'description'\u001b[0m\u001b[1;33m]\u001b[0m \u001b[1;33m=\u001b[0m \u001b[0msoup\u001b[0m\u001b[1;33m.\u001b[0m\u001b[0mfind\u001b[0m\u001b[1;33m(\u001b[0m\u001b[0mjsname\u001b[0m \u001b[1;33m=\u001b[0m \u001b[0mdescriptionJsname\u001b[0m\u001b[1;33m)\u001b[0m\u001b[1;33m.\u001b[0m\u001b[0mget_text\u001b[0m\u001b[1;33m(\u001b[0m\u001b[1;33m)\u001b[0m\u001b[1;33m\u001b[0m\u001b[1;33m\u001b[0m\u001b[0m\n\u001b[0m\u001b[0;32m     48\u001b[0m \u001b[1;33m\u001b[0m\u001b[0m\n\u001b[0;32m     49\u001b[0m \u001b[0mprint\u001b[0m\u001b[1;33m(\u001b[0m\u001b[0mresultDict\u001b[0m\u001b[1;33m[\u001b[0m\u001b[1;34m\"description\"\u001b[0m\u001b[1;33m]\u001b[0m\u001b[1;33m)\u001b[0m\u001b[1;33m\u001b[0m\u001b[1;33m\u001b[0m\u001b[0m\n",
      "\u001b[1;31mAttributeError\u001b[0m: 'NoneType' object has no attribute 'get_text'"
     ]
    }
   ],
   "source": [
    "import requests\n",
    "from bs4 import BeautifulSoup\n",
    "\n",
    "\n",
    "\n",
    "baseString = \"https://play.google.com/store/apps/details?id=\"\n",
    "appId = \"com.wildlife.games.battle.royale.free.zooba\"\n",
    "\n",
    "nameClass = \"AHFaub\"\n",
    "genreClass = \"hrTbp R8zArc\"\n",
    "reviewCountClass = \"AYi5wd TBRnV\"\n",
    "starBlockClass = \"K9wGie\"\n",
    "filledStarClass = \"BGNhFb WF1WQd\"\n",
    "partialStarClass = \"NVmCwd WF1WQd cm4lTe\"\n",
    "descriptionJsname = \"sngebd\"\n",
    "fiveStarBarClass = \"L2o20d P41RMc\"\n",
    "fourStarBarClass = \"L2o20d tpbQF\"\n",
    "threeStarBarClass = \"L2o20d Sthl9e\"\n",
    "twoStarBarClass = \"L2o20d rhCabb\"\n",
    "oneStarBarClass = \"L2o20d A3ihhc\"\n",
    "\n",
    "resultDict = {\n",
    "    \"id\": \"\",\n",
    "    \"name\": \"\",\n",
    "    \"description\": \"\",\n",
    "    \"genre\": \"\",\n",
    "    \"reviews\": {\n",
    "        \"count\": 0,\n",
    "        \"total_score\": 0,\n",
    "        \"five_star_count\": 0,\n",
    "        \"four_star_count\": 0,\n",
    "        \"three_star_count\": 0,\n",
    "        \"two_star_count\": 0,\n",
    "        \"one_star_count\": 0,\n",
    "        \"accuracy\": 0\n",
    "    }\n",
    "}\n",
    "\n",
    "appPage = requests.get(baseString + appId)\n",
    "\n",
    "soup = BeautifulSoup(appPage.text, 'html.parser')\n",
    "\n",
    "resultDict['name'] = soup.find(class_ = nameClass).get_text()\n",
    "\n",
    "resultDict['genre'] = soup.find(class_ = genreClass, itemprop=\"genre\")[\"href\"].split('/')[-1]\n",
    "\n",
    "resultDict['description'] = soup.find(jsname = descriptionJsname).get_text()\n",
    "\n",
    "print(resultDict[\"description\"])"
   ]
  },
  {
   "cell_type": "code",
   "execution_count": null,
   "metadata": {},
   "outputs": [],
   "source": []
  }
 ]
}